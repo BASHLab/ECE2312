{
 "cells": [
  {
   "cell_type": "code",
   "execution_count": 33,
   "metadata": {},
   "outputs": [],
   "source": [
    "#import necessary library and modules\n",
    "import numpy as np\n",
    "from matplotlib import pyplot as plt"
   ]
  },
  {
   "cell_type": "code",
   "execution_count": 34,
   "metadata": {},
   "outputs": [],
   "source": [
    "#input sequence\n",
    "# x = [1, 2, 3, 4, 5]\n",
    "# x = [-1, 5]\n",
    "x = [1,2,1,1]\n",
    "\n",
    "#impulse response\n",
    "# h = [1, 2, 3, 4, 2, 1]\n",
    "# h = [4, -3]\n",
    "h = [1,1,2,1]"
   ]
  },
  {
   "cell_type": "code",
   "execution_count": 41,
   "metadata": {},
   "outputs": [],
   "source": [
    "def my_convolution(x, h):\n",
    "    # Calculate length of x and h\n",
    "    l_x = len(x)\n",
    "    l_h = len(h)\n",
    "\n",
    "    print(\"Length of x and h are \", l_x, \" and \", l_h )\n",
    "\n",
    "    # compute length of y\n",
    "    l_y = l_x + l_h -1\n",
    "    print(\"Length of y is \", l_y)\n",
    "    # Compute y using the convolution sum algorithm that we learned\n",
    "\n",
    "    # Pad x and h to make the length to be l_y\n",
    "    x_pad = np.pad(x, (0,l_y-l_x), 'constant')\n",
    "    h_pad = np.pad(h, (0,l_y-l_h), 'constant')\n",
    "    y = np.zeros(l_y) \n",
    "\n",
    "    for n in range(l_y):\n",
    "        for k in range(l_y):\n",
    "            if n >= k:\n",
    "                y[n] = y[n] + x_pad[n-k]*h_pad[k]\n",
    "\n",
    "    return y, l_h, l_x, l_y"
   ]
  },
  {
   "cell_type": "code",
   "execution_count": 42,
   "metadata": {},
   "outputs": [
    {
     "name": "stdout",
     "output_type": "stream",
     "text": [
      "Length of x and h are  4  and  4\n",
      "Length of y is  7\n",
      "Linear convolution using convolution sum formula output response y =\n",
      " [1. 3. 5. 7. 5. 3. 1.]\n"
     ]
    }
   ],
   "source": [
    "y, l_h, l_x, l_y = my_convolution(x, h)\n",
    "print('Linear convolution using convolution sum formula output response y =\\n',y)"
   ]
  },
  {
   "cell_type": "code",
   "execution_count": 43,
   "metadata": {},
   "outputs": [
    {
     "name": "stdout",
     "output_type": "stream",
     "text": [
      "Linear convolution using NumPy built-in function output response y=\n",
      " [1 3 5 7 5 3 1]\n"
     ]
    }
   ],
   "source": [
    "# Let's use the built in linear convolution finction in Numpy\n",
    "\n",
    "y1 = np.convolve(x, h)\n",
    "print('Linear convolution using NumPy built-in function output response y=\\n',y1)"
   ]
  },
  {
   "cell_type": "markdown",
   "metadata": {},
   "source": [
    "# use convolution for cross-correlation"
   ]
  },
  {
   "cell_type": "code",
   "execution_count": 44,
   "metadata": {},
   "outputs": [
    {
     "name": "stdout",
     "output_type": "stream",
     "text": [
      "h:  [1, 1, 2, 1]\n",
      "time-reversed h:  [1. 2. 1. 1.]\n"
     ]
    }
   ],
   "source": [
    "# time-reverse h\n",
    "h_rev = np.zeros(l_h)\n",
    "for i in range(l_h):\n",
    "    h_rev[l_h-1-i] = h[i]\n",
    "\n",
    "print(\"h: \", h)\n",
    "print(\"time-reversed h: \", h_rev)"
   ]
  },
  {
   "cell_type": "code",
   "execution_count": 47,
   "metadata": {},
   "outputs": [
    {
     "name": "stdout",
     "output_type": "stream",
     "text": [
      "Cross correlation using NumPy correlation built-in function, y=\n",
      " [1 4 6 6 5 2 1]\n"
     ]
    }
   ],
   "source": [
    "# correlation using built in correlation function\n",
    "y1 = np.correlate(x,h, 'full')\n",
    "print('Cross correlation using NumPy correlation built-in function, y=\\n',y1)"
   ]
  },
  {
   "cell_type": "code",
   "execution_count": 48,
   "metadata": {},
   "outputs": [
    {
     "name": "stdout",
     "output_type": "stream",
     "text": [
      "Cross correlation using NumPy convolution built-in function, y=\n",
      " [1. 4. 6. 6. 5. 2. 1.]\n"
     ]
    }
   ],
   "source": [
    "# correlation using built in convolution function\n",
    "y2 = np.convolve(x, h_rev)\n",
    "print('Cross correlation using NumPy convolution built-in function, y=\\n',y2)"
   ]
  },
  {
   "cell_type": "code",
   "execution_count": 49,
   "metadata": {},
   "outputs": [
    {
     "name": "stdout",
     "output_type": "stream",
     "text": [
      "Length of x and h are  4  and  4\n",
      "Length of y is  7\n",
      "correlation using formula,  y =\n",
      " [1. 4. 6. 6. 5. 2. 1.]\n"
     ]
    }
   ],
   "source": [
    "# Now let's try using the convolution equation\n",
    "y3, _, _, _ = my_convolution(x, h_rev)\n",
    "print('correlation using formula,  y =\\n',y3)"
   ]
  }
 ],
 "metadata": {
  "kernelspec": {
   "display_name": "Python 3",
   "language": "python",
   "name": "python3"
  },
  "language_info": {
   "codemirror_mode": {
    "name": "ipython",
    "version": 3
   },
   "file_extension": ".py",
   "mimetype": "text/x-python",
   "name": "python",
   "nbconvert_exporter": "python",
   "pygments_lexer": "ipython3",
   "version": "3.9.12"
  }
 },
 "nbformat": 4,
 "nbformat_minor": 2
}
