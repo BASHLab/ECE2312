{
 "cells": [
  {
   "cell_type": "code",
   "execution_count": 1,
   "metadata": {},
   "outputs": [],
   "source": [
    "# import the libraries\n",
    "import numpy as np\n",
    "import math\n",
    "import cmath\n",
    "from numpy.fft import fft,ifft\n",
    "import scipy as sy\n",
    "from matplotlib import pyplot as plt"
   ]
  },
  {
   "cell_type": "code",
   "execution_count": 3,
   "metadata": {},
   "outputs": [
    {
     "name": "stdout",
     "output_type": "stream",
     "text": [
      "lenth of input sample, N=  4\n"
     ]
    }
   ],
   "source": [
    "#input sequences\n",
    "\n",
    "x = eval(input('Enter the input sequence x[n]='))\n",
    "N = len(x)\n",
    "\n",
    "print('lenth of input sample, N= ',N)\n",
    "\n",
    "# Sample input 0,1,2,3"
   ]
  },
  {
   "cell_type": "code",
   "execution_count": 19,
   "metadata": {},
   "outputs": [
    {
     "name": "stdout",
     "output_type": "stream",
     "text": [
      "x=  (0, 1, 2, 3)\n",
      "N=  4\n",
      "(6+0j)\n",
      "[(6+0j)]\n",
      "(-2.0000000000000004+1.9999999999999998j)\n",
      "[(6+0j), (-2.0000000000000004+1.9999999999999998j)]\n",
      "(-2-7.34788079488412e-16j)\n",
      "[(6+0j), (-2.0000000000000004+1.9999999999999998j), (-2-7.34788079488412e-16j)]\n",
      "(-1.9999999999999984-2.000000000000001j)\n",
      "[(6+0j), (-2.0000000000000004+1.9999999999999998j), (-2-7.34788079488412e-16j), (-1.9999999999999984-2.000000000000001j)]\n"
     ]
    }
   ],
   "source": [
    "def dft(x,N):\n",
    "    print('x= ',x)\n",
    "    print('N= ',N)\n",
    "    X=[]\n",
    "    x_mag_res = []\n",
    "    for K in range(N):\n",
    "        temp = 0+0j\n",
    "        for n in range(N):\n",
    "            temp = temp+x[n]*cmath.exp(-2*cmath.sqrt(-1)*cmath.pi*n*K/N)\n",
    "        print(temp)\n",
    "        # X[K] = temp\n",
    "        X.append(temp)\n",
    "        print(X)\n",
    "        x_mag_res.append(abs(X[K]))\n",
    "    return X, x_mag_res\n",
    "X, x_mag_res = dft(x,N)"
   ]
  },
  {
   "cell_type": "code",
   "execution_count": 20,
   "metadata": {},
   "outputs": [
    {
     "name": "stdout",
     "output_type": "stream",
     "text": [
      "Discrete Fourier Transform X[k] =\n",
      " [(6+0j), (-2.0000000000000004+1.9999999999999998j), (-2-7.34788079488412e-16j), (-1.9999999999999984-2.000000000000001j)]\n"
     ]
    }
   ],
   "source": [
    "print('Discrete Fourier Transform X[k] =\\n',X)"
   ]
  },
  {
   "cell_type": "code",
   "execution_count": 21,
   "metadata": {},
   "outputs": [
    {
     "name": "stdout",
     "output_type": "stream",
     "text": [
      "X=\n",
      " [(6+0j), (-2.0000000000000004+1.9999999999999998j), (-2-7.34788079488412e-16j), (-1.9999999999999984-2.000000000000001j)]\n",
      "N=\n",
      " 4\n"
     ]
    }
   ],
   "source": [
    "def idft(X,N):\n",
    "    print('X=\\n',X)\n",
    "    print('N=\\n',N)\n",
    "    x = []\n",
    "    for n in range(N):\n",
    "        temp = 0+0j\n",
    "        for K in range(N):\n",
    "            temp = temp+X[K]*cmath.exp(2*cmath.sqrt(-1)*cmath.pi*n*K/N)\n",
    "        x.append(temp/N)\n",
    "        \n",
    "    return x\n",
    "x1 = idft(X,N)"
   ]
  },
  {
   "cell_type": "code",
   "execution_count": 22,
   "metadata": {},
   "outputs": [
    {
     "name": "stdout",
     "output_type": "stream",
     "text": [
      "Inverse Discrete Fourier Transform x[n]=\n",
      " [0. 1. 2. 3.]\n"
     ]
    }
   ],
   "source": [
    "x_n = np.real(x1)\n",
    "x_n = np.round(x_n,decimals=0)\n",
    "print('Inverse Discrete Fourier Transform x[n]=\\n',x_n)"
   ]
  },
  {
   "cell_type": "code",
   "execution_count": 23,
   "metadata": {},
   "outputs": [
    {
     "name": "stdout",
     "output_type": "stream",
     "text": [
      "Magnitude response |X(K)|=\n",
      " [6.0, 2.8284271247461903, 2.0, 2.82842712474619]\n",
      "Phase response <X(K)=\n",
      " [ 0.          2.35619449 -3.14159265 -2.35619449]\n"
     ]
    }
   ],
   "source": [
    "x_phase_res = np.angle(X)\n",
    "print('Magnitude response |X(K)|=\\n',x_mag_res)\n",
    "print('Phase response <X(K)=\\n',x_phase_res)"
   ]
  },
  {
   "cell_type": "code",
   "execution_count": 24,
   "metadata": {},
   "outputs": [
    {
     "data": {
      "image/png": "[encoded data removed]",
      "text/plain": [
       "<Figure size 432x288 with 1 Axes>"
      ]
     },
     "metadata": {
      "needs_background": "light"
     },
     "output_type": "display_data"
    },
    {
     "data": {
      "image/png": "[encoded data removed]",
      "text/plain": [
       "<Figure size 432x288 with 1 Axes>"
      ]
     },
     "metadata": {
      "needs_background": "light"
     },
     "output_type": "display_data"
    }
   ],
   "source": [
    "# Let's plot\n",
    "n = np.arange(0,N,1)\n",
    "#To open a new figure window\n",
    "fig=plt.figure()\n",
    "plt.stem(n,x_mag_res,linefmt='grey')\n",
    "plt.xlabel('Discrete Frequency variable K---->')\n",
    "plt.ylabel('Amplitude')\n",
    "plt.grid(True, which='both')\n",
    "plt.title('Amplitude response')\n",
    "#To open a new figure window\n",
    "fig = plt.figure()\n",
    "plt.stem(n,x_phase_res,linefmt='grey')\n",
    "plt.xlabel('Discrete Frequency variable K---->')\n",
    "plt.ylabel('Amplitude')\n",
    "plt.grid(True, which='both')\n",
    "plt.title('Phase response')\n",
    "plt.show()"
   ]
  }
 ],
 "metadata": {
  "kernelspec": {
   "display_name": "Python 3",
   "language": "python",
   "name": "python3"
  },
  "language_info": {
   "codemirror_mode": {
    "name": "ipython",
    "version": 3
   },
   "file_extension": ".py",
   "mimetype": "text/x-python",
   "name": "python",
   "nbconvert_exporter": "python",
   "pygments_lexer": "ipython3",
   "version": "3.9.12"
  }
 },
 "nbformat": 4,
 "nbformat_minor": 2
}
